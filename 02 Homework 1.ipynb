{
 "cells": [
  {
   "cell_type": "markdown",
   "metadata": {},
   "source": [
    "# Задания по NumPy\n",
    "В данной тетради вам необходимо выполнить несколько задач по NumPy. Для некоторых задач необходимо найти подходящие функции в документации NumPy. Вы можете пользоваться поиском в интернете для этого. Задания необходимо выполнить без использования циклов с помощью векторизованых вычислений.\n",
    "\n",
    "Для начала симпортируйте библиотеку `numpy` с алиасом `np`"
   ]
  },
  {
   "cell_type": "code",
   "execution_count": 1,
   "metadata": {
    "ExecuteTime": {
     "end_time": "2018-01-12T14:21:26.388317Z",
     "start_time": "2018-01-12T14:21:25.546861Z"
    }
   },
   "outputs": [],
   "source": [
    "import numpy as np"
   ]
  },
  {
   "cell_type": "markdown",
   "metadata": {},
   "source": [
    "#### 1. Создайте массив целых чисел от 1 до 10 включительно"
   ]
  },
  {
   "cell_type": "code",
   "execution_count": 6,
   "metadata": {
    "ExecuteTime": {
     "end_time": "2018-01-12T14:25:14.884763Z",
     "start_time": "2018-01-12T14:25:14.881286Z"
    }
   },
   "outputs": [
    {
     "name": "stdout",
     "output_type": "stream",
     "text": [
      "[ 1  2  3  4  5  6  7  8  9 10]\n"
     ]
    }
   ],
   "source": [
    "a = np.arange(1,11)\n",
    "print(a)"
   ]
  },
  {
   "cell_type": "markdown",
   "metadata": {},
   "source": [
    "#### 2. Вычислите факториал для каждого числа массива целых чисел от 1 до 10 включительно  с помощью функции NumPy (подсказкаЖ воспользуйтесь одной из кумулятивных функций)"
   ]
  },
  {
   "cell_type": "code",
   "execution_count": 11,
   "metadata": {
    "ExecuteTime": {
     "end_time": "2018-01-12T14:29:38.616976Z",
     "start_time": "2018-01-12T14:29:38.610307Z"
    }
   },
   "outputs": [
    {
     "data": {
      "text/plain": [
       "array([      1,       2,       6,      24,     120,     720,    5040,\n",
       "         40320,  362880, 3628800])"
      ]
     },
     "execution_count": 11,
     "metadata": {},
     "output_type": "execute_result"
    }
   ],
   "source": [
    "np.cumprod(a)"
   ]
  },
  {
   "cell_type": "markdown",
   "metadata": {
    "ExecuteTime": {
     "end_time": "2017-12-31T09:57:42.051497Z",
     "start_time": "2017-12-31T09:57:42.045996Z"
    }
   },
   "source": [
    "#### 3. Создайте массив целых чисел от 1 до 10 включительно и затем переверните этот массив с помощью срезов (slices)"
   ]
  },
  {
   "cell_type": "code",
   "execution_count": 28,
   "metadata": {
    "ExecuteTime": {
     "end_time": "2018-01-12T14:35:39.172965Z",
     "start_time": "2018-01-12T14:35:39.168871Z"
    }
   },
   "outputs": [
    {
     "data": {
      "text/plain": [
       "array([10,  9,  8,  7,  6,  5,  4,  3,  2,  1])"
      ]
     },
     "execution_count": 28,
     "metadata": {},
     "output_type": "execute_result"
    }
   ],
   "source": [
    "x = np.arange(1,10+1)\n",
    "x[::-1]"
   ]
  },
  {
   "cell_type": "markdown",
   "metadata": {},
   "source": [
    "#### 4. Создайте массив целых чисел от -10 до 10 включительно и вычислите отдельно сумму отрицательных и положительных чисел используя булевые маски"
   ]
  },
  {
   "cell_type": "code",
   "execution_count": 41,
   "metadata": {
    "ExecuteTime": {
     "end_time": "2018-01-12T15:12:23.109681Z",
     "start_time": "2018-01-12T15:12:23.105727Z"
    }
   },
   "outputs": [
    {
     "name": "stdout",
     "output_type": "stream",
     "text": [
      "55\n",
      "-55\n"
     ]
    }
   ],
   "source": [
    "x = np.arange(-10,11)\n",
    "print(np.sum(x[x>0]))\n",
    "print(np.sum(x[x<0]))"
   ]
  },
  {
   "cell_type": "markdown",
   "metadata": {},
   "source": [
    "####  5. Создайте массив случайных целых чисел от 1 до 100 размером 5 x 5 и найдите минимум, максимум и среднее значение массива"
   ]
  },
  {
   "cell_type": "code",
   "execution_count": 78,
   "metadata": {
    "ExecuteTime": {
     "end_time": "2018-01-12T15:17:52.844769Z",
     "start_time": "2018-01-12T15:17:52.839182Z"
    }
   },
   "outputs": [
    {
     "name": "stdout",
     "output_type": "stream",
     "text": [
      "Max: 94\n",
      "Min: 14\n",
      "Avg: 56.76\n"
     ]
    }
   ],
   "source": [
    "x = np.random.randint(1, 100, size=[5,5])\n",
    "print('Max:',np.max(x))\n",
    "print('Min:',np.min(x))\n",
    "print('Avg:',np.average(x))"
   ]
  },
  {
   "cell_type": "markdown",
   "metadata": {},
   "source": [
    "####  6. В следующих трех задачах необходимо нормализовать строки двухмерного массива. Для начала создайте массив от 1 до 25 включительно размером 5 x 5"
   ]
  },
  {
   "cell_type": "code",
   "execution_count": 98,
   "metadata": {
    "ExecuteTime": {
     "end_time": "2018-01-12T16:12:10.978190Z",
     "start_time": "2018-01-12T16:12:10.975745Z"
    }
   },
   "outputs": [],
   "source": [
    "x = np.arange(1,25+1).reshape(5,5)"
   ]
  },
  {
   "cell_type": "markdown",
   "metadata": {},
   "source": [
    "####  7. Вычислите минимум и максимум каждой строки массива. В результате у вас должны получиться два массива размера 5. С помощью функции `reshape` переверните эти два массива, чтобы получить массив в столбец размером 5 x 1\n",
    "```python\n",
    "min = [[ 0],\n",
    "       [ 5],\n",
    "       [10],\n",
    "       [15],\n",
    "       [20]]\n",
    "\n",
    "max = [[ 4],\n",
    "       [ 9],\n",
    "       [14],\n",
    "       [19],\n",
    "       [24]]\n",
    "```"
   ]
  },
  {
   "cell_type": "code",
   "execution_count": 104,
   "metadata": {
    "ExecuteTime": {
     "end_time": "2018-01-12T16:15:18.779789Z",
     "start_time": "2018-01-12T16:15:18.776223Z"
    }
   },
   "outputs": [
    {
     "name": "stdout",
     "output_type": "stream",
     "text": [
      "min =  [[ 1]\n",
      " [ 6]\n",
      " [11]\n",
      " [16]\n",
      " [21]]\n"
     ]
    }
   ],
   "source": [
    "min = np.min(x, axis=1).reshape(5,1)\n",
    "print('min = ', min)"
   ]
  },
  {
   "cell_type": "code",
   "execution_count": 103,
   "metadata": {
    "ExecuteTime": {
     "end_time": "2018-01-12T16:15:08.965120Z",
     "start_time": "2018-01-12T16:15:08.961221Z"
    }
   },
   "outputs": [
    {
     "name": "stdout",
     "output_type": "stream",
     "text": [
      "max =  [[ 5]\n",
      " [10]\n",
      " [15]\n",
      " [20]\n",
      " [25]]\n"
     ]
    }
   ],
   "source": [
    "max = np.max(x, axis=1).reshape(5,1)\n",
    "print('max = ', max)"
   ]
  },
  {
   "cell_type": "markdown",
   "metadata": {},
   "source": [
    "####  8. Нормализуйте каждую строку массива из предыдущей задачи используя вычисленные минимумы и максимумы строк. Для нормализации необходимо вычесть из каждой строки её минимум и результат поделить на максимум каждой строки\n",
    "$$\n",
    "normalized = \\frac{x - min}{max}\n",
    "$$"
   ]
  },
  {
   "cell_type": "code",
   "execution_count": 109,
   "metadata": {
    "ExecuteTime": {
     "end_time": "2018-01-12T16:16:56.460692Z",
     "start_time": "2018-01-12T16:16:56.453818Z"
    }
   },
   "outputs": [
    {
     "data": {
      "text/plain": [
       "array([[ 0.        ,  0.2       ,  0.4       ,  0.6       ,  0.8       ],\n",
       "       [ 0.        ,  0.1       ,  0.2       ,  0.3       ,  0.4       ],\n",
       "       [ 0.        ,  0.06666667,  0.13333333,  0.2       ,  0.26666667],\n",
       "       [ 0.        ,  0.05      ,  0.1       ,  0.15      ,  0.2       ],\n",
       "       [ 0.        ,  0.04      ,  0.08      ,  0.12      ,  0.16      ]])"
      ]
     },
     "execution_count": 109,
     "metadata": {},
     "output_type": "execute_result"
    }
   ],
   "source": [
    "(x-np.min(x,axis=1).reshape(5,1))/np.max(x, axis=1).reshape(5,1)"
   ]
  },
  {
   "cell_type": "markdown",
   "metadata": {},
   "source": [
    "####  9. Создайте массив случайных целых чисел от 0 до 100 размером 10. Замените минимальный элемент этого массива на 0 и максимальный на 100. Вам необходимо использовать функцию, которая возвращает аргумент минимального и максимального элементов"
   ]
  },
  {
   "cell_type": "code",
   "execution_count": 126,
   "metadata": {
    "ExecuteTime": {
     "end_time": "2018-01-12T16:23:23.745328Z",
     "start_time": "2018-01-12T16:23:23.738037Z"
    }
   },
   "outputs": [
    {
     "name": "stdout",
     "output_type": "stream",
     "text": [
      "before: [99 29 21 33 12 48 93 68 92 23]\n",
      "min index: 4\n",
      "max index: 0\n",
      "after: [100  29  21  33   0  48  93  68  92  23]\n"
     ]
    }
   ],
   "source": [
    "x=np.random.randint(0, 100, 10)\n",
    "print('before:',x)\n",
    "print('min index:',np.argmin(x))\n",
    "print('max index:',np.argmax(x))\n",
    "x[np.argmin(x)] = 0\n",
    "x[np.argmax(x)] = 100\n",
    "print('after:',x)"
   ]
  },
  {
   "cell_type": "markdown",
   "metadata": {},
   "source": [
    "#### 10. Допустим у нас есть двухмерных массив, который содержит координаты двух точек в декартовой системе координат. Вычислите расстояние между этими точками с помощью теоремы пифагора.\n",
    "$$\n",
    "\\begin{align}\n",
    "P &= \\begin{bmatrix}\n",
    "        x_1 & y_1\\\\\n",
    "        x_2 & y_2\n",
    "     \\end{bmatrix}\n",
    "\\end{align} \\\\\n",
    "Distance = \\sqrt{(x_2 - x_1)^2 + (y_2 - y_1)^2}\n",
    "$$\n",
    "Необходимо выполнить данное задание с помощью векторизованных вычислений без циклов"
   ]
  },
  {
   "cell_type": "code",
   "execution_count": 132,
   "metadata": {
    "ExecuteTime": {
     "end_time": "2018-01-12T16:26:27.297860Z",
     "start_time": "2018-01-12T16:26:27.291834Z"
    }
   },
   "outputs": [
    {
     "data": {
      "text/plain": [
       "5.0"
      ]
     },
     "execution_count": 132,
     "metadata": {},
     "output_type": "execute_result"
    }
   ],
   "source": [
    "p = np.array([[1, 1],  # x1, y1\n",
    "              [4, 5]]) # x2, y2\n",
    "d = np.sqrt(np.square(p[1][0]-p[0][0])+np.square(p[1][1]-p[0][1]))\n",
    "d"
   ]
  },
  {
   "cell_type": "markdown",
   "metadata": {},
   "source": [
    "#### 11. Создайте массив от -2 до 3 включительно и вычислите следующее выражение\n",
    "$$\n",
    "\\frac{1}{1 + e^{-(a_0 + a_1 + \\cdots + a_5)}}\n",
    "$$\n",
    "Для вычисления $e^x$ используйте функцию `np.exp`"
   ]
  },
  {
   "cell_type": "code",
   "execution_count": 139,
   "metadata": {
    "ExecuteTime": {
     "end_time": "2018-01-12T16:28:19.655172Z",
     "start_time": "2018-01-12T16:28:19.650910Z"
    }
   },
   "outputs": [
    {
     "data": {
      "text/plain": [
       "0.99330714907571527"
      ]
     },
     "execution_count": 139,
     "metadata": {},
     "output_type": "execute_result"
    }
   ],
   "source": [
    "1/(1+np.exp(-np.sum(np.arange(-1,3+1))))"
   ]
  }
 ],
 "metadata": {
  "hide_input": false,
  "kernelspec": {
   "display_name": "Python 3",
   "language": "python",
   "name": "python3"
  },
  "language_info": {
   "codemirror_mode": {
    "name": "ipython",
    "version": 3
   },
   "file_extension": ".py",
   "mimetype": "text/x-python",
   "name": "python",
   "nbconvert_exporter": "python",
   "pygments_lexer": "ipython3",
   "version": "3.6.2"
  },
  "varInspector": {
   "cols": {
    "lenName": 16,
    "lenType": 16,
    "lenVar": 40
   },
   "kernels_config": {
    "python": {
     "delete_cmd_postfix": "",
     "delete_cmd_prefix": "del ",
     "library": "var_list.py",
     "varRefreshCmd": "print(var_dic_list())"
    },
    "r": {
     "delete_cmd_postfix": ") ",
     "delete_cmd_prefix": "rm(",
     "library": "var_list.r",
     "varRefreshCmd": "cat(var_dic_list()) "
    }
   },
   "types_to_exclude": [
    "module",
    "function",
    "builtin_function_or_method",
    "instance",
    "_Feature"
   ],
   "window_display": false
  }
 },
 "nbformat": 4,
 "nbformat_minor": 2
}
